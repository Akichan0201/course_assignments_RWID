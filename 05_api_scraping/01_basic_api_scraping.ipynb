{
 "cells": [
  {
   "cell_type": "markdown",
   "metadata": {},
   "source": [
    "### **API Scraping**\n",
    "APIs (Application Programming Interfaces) are essential tools for accessing structured data from websites and services. Instead of scraping HTML content directly, APIs provide a cleaner, more efficient way to access data. This is particularly important when dealing with dynamic websites or large datasets. By mastering API scraping, you can:\n",
    "\n",
    "- Access real-time data programmatically.\n",
    "- Avoid complexities associated with HTML parsing.\n",
    "- Work within the terms of service of many websites.\n",
    "- Build scalable and automated data pipelines."
   ]
  },
  {
   "cell_type": "code",
   "execution_count": null,
   "metadata": {},
   "outputs": [
    {
     "name": "stdout",
     "output_type": "stream",
     "text": [
      "<class 'requests.models.Response'>\n",
      "{'fact': 'Some common houseplants poisonous to cats include: English Ivy, iris, mistletoe, philodendron, and yew.', 'length': 103}\n"
     ]
    }
   ],
   "source": [
    "\"\"\"\n",
    "Objective: Learn how to send a simple API request using Python.\n",
    "\"\"\"\n",
    "# TODO: Send a GET request to https://catfact.ninja/fact\n",
    "# TODO: Compare the result by response.text and response.json()\n",
    "# TODO: Now check the data type and output format\n",
    "# TODO: This response is what we call as an API response. \n",
    "\n",
    "import requests\n",
    "\n",
    "\n",
    "api_endoints = \"https://catfact.ninja/fact\"\n",
    "\n",
    "\n",
    "response = requests.get(api_endoints)\n",
    "print(type(response))\n",
    "print(response.json())"
   ]
  },
  {
   "cell_type": "code",
   "execution_count": null,
   "metadata": {},
   "outputs": [
    {
     "data": {
      "text/plain": [
       "dict_keys(['coord', 'weather', 'base', 'main', 'visibility', 'wind', 'clouds', 'dt', 'sys', 'timezone', 'id', 'name', 'cod'])"
      ]
     },
     "execution_count": 12,
     "metadata": {},
     "output_type": "execute_result"
    }
   ],
   "source": [
    "\"\"\"\n",
    "Objective: Learn to pass parameters in an API request URL.\n",
    "\"\"\"\n",
    "\n",
    "# TODO: Send a GET request to the current API endpoint and assign the API key and city parameters \n",
    "# TODO: Try to update the CITY variable with a non-valid city name\n",
    "# TODO: What data we can get?\n",
    "\n",
    "import requests\n",
    "\n",
    "\n",
    "API_KEY = \"2498dbd96f093417f23d84265654517c\"\n",
    "CITY = \"London\"\n",
    "\n",
    "api_endoints = f\"\"\"\n",
    "https://api.openweathermap.org/data/2.5/weather\\\n",
    "?q={CITY}\\\n",
    "&appid={API_KEY}\\\n",
    "&units=metric\n",
    "\"\"\"\n",
    "\n",
    "\n",
    "response = requests.get(api_endoints)\n",
    "data = response.json()\n",
    "\n",
    "data.keys()"
   ]
  },
  {
   "cell_type": "code",
   "execution_count": 9,
   "metadata": {},
   "outputs": [
    {
     "name": "stdout",
     "output_type": "stream",
     "text": [
      "Temperature: 276.73 °C\n",
      "Humidity: 91%\n",
      "Weather: overcast clouds\n"
     ]
    }
   ],
   "source": [
    "\"\"\"\n",
    "Objective: Extract specific information from the API response.\n",
    "\"\"\"\n",
    "# TODO: Extract the temperature data (temp) and print it\n",
    "# TODO: Extract the humidity data and print it\n",
    "# TODO: Extract the Weather description data and print it\n",
    "\n",
    "data = response.json()\n",
    "temperature = data[\"main\"][\"temp\"]\n",
    "humidity = data[\"main\"][\"humidity\"]\n",
    "description = data[\"weather\"][0][\"description\"]\n",
    "print(f\"Temperature: {temperature} \\u00b0C\")\n",
    "print(f\"Humidity: {humidity}%\")\n",
    "print(f\"Weather: {description}\")"
   ]
  },
  {
   "cell_type": "code",
   "execution_count": 10,
   "metadata": {},
   "outputs": [
    {
     "name": "stdout",
     "output_type": "stream",
     "text": [
      "[{'coord': {'lon': -0.1257, 'lat': 51.5085}, 'weather': [{'id': 804, 'main': 'Clouds', 'description': 'overcast clouds', 'icon': '04d'}], 'base': 'stations', 'main': {'temp': 3.6, 'feels_like': 3.6, 'temp_min': 2.95, 'temp_max': 4.52, 'pressure': 1005, 'humidity': 91, 'sea_level': 1005, 'grnd_level': 1000}, 'visibility': 8000, 'wind': {'speed': 1.03, 'deg': 0}, 'clouds': {'all': 100}, 'dt': 1737544197, 'sys': {'type': 2, 'id': 2075535, 'country': 'GB', 'sunrise': 1737532335, 'sunset': 1737563496}, 'timezone': 0, 'id': 2643743, 'name': 'London', 'cod': 200}, {'coord': {'lon': -74.006, 'lat': 40.7143}, 'weather': [{'id': 800, 'main': 'Clear', 'description': 'clear sky', 'icon': '01n'}], 'base': 'stations', 'main': {'temp': -10.74, 'feels_like': -17.59, 'temp_min': -13.38, 'temp_max': -9.46, 'pressure': 1032, 'humidity': 54, 'sea_level': 1032, 'grnd_level': 1030}, 'visibility': 10000, 'wind': {'speed': 4.12, 'deg': 330}, 'clouds': {'all': 0}, 'dt': 1737544169, 'sys': {'type': 2, 'id': 2037026, 'country': 'US', 'sunrise': 1737548038, 'sunset': 1737583263}, 'timezone': -18000, 'id': 5128581, 'name': 'New York', 'cod': 200}, {'coord': {'lon': 139.6917, 'lat': 35.6895}, 'weather': [{'id': 800, 'main': 'Clear', 'description': 'clear sky', 'icon': '01n'}], 'base': 'stations', 'main': {'temp': 9.83, 'feels_like': 9.41, 'temp_min': 7.01, 'temp_max': 10.36, 'pressure': 1022, 'humidity': 41, 'sea_level': 1022, 'grnd_level': 1021}, 'visibility': 10000, 'wind': {'speed': 1.54, 'deg': 130}, 'clouds': {'all': 0}, 'dt': 1737544381, 'sys': {'type': 2, 'id': 268395, 'country': 'JP', 'sunrise': 1737496065, 'sunset': 1737532641}, 'timezone': 32400, 'id': 1850144, 'name': 'Tokyo', 'cod': 200}]\n"
     ]
    }
   ],
   "source": [
    "\"\"\"\n",
    "Objective: Automate requests to fetch data for multiple cities.\n",
    "\"\"\"\n",
    "# TODO: Answer this question, can we use the same API key for multiple request?\n",
    "# TODO: Analyze the previous endpoint and separate the base endpoint and the parameter (q, appid, units)\n",
    "# TODO: Send multiple GET request to the base endpoint and use params requests library using loop of cities variable\n",
    "# TODO: Print the temperature, humidity, and weather description for each city\n",
    "\n",
    "\n",
    "cities = [\"London\", \"New York\", \"Tokyo\"]\n",
    "API_KEY = \"2498dbd96f093417f23d84265654517c\"\n",
    "weather_data = []\n",
    "\n",
    "for city in cities:\n",
    "    response = requests.get(\"https://api.openweathermap.org/data/2.5/weather\", params={\n",
    "        \"q\": city,\n",
    "        \"appid\": API_KEY,\n",
    "        \"units\": \"metric\"\n",
    "    })\n",
    "    weather_data.append(response.json())\n",
    "print(weather_data)"
   ]
  },
  {
   "cell_type": "code",
   "execution_count": null,
   "metadata": {},
   "outputs": [],
   "source": [
    "\"\"\"\n",
    "Objective: Automate requests to fetch data for multiple cities.\n",
    "\"\"\"\n",
    "# TODO: Create your own API key by creating an account on openweathermap.org\n",
    "# TODO: Implement your API key to fetch data for multiple cities same as the previous example\n",
    "# TODO: Read the API documentation at https://openweathermap.org/api\n",
    "# TODO: Find another endpoint that you want to try, explain what it does"
   ]
  },
  {
   "cell_type": "markdown",
   "metadata": {},
   "source": [
    "### **Reflection**\n",
    "State your opinion about what is an API?\n",
    "\n",
    "(answer below here)"
   ]
  },
  {
   "cell_type": "markdown",
   "metadata": {},
   "source": [
    "### **Exploration**\n",
    "Learn about the X API documentations here https://docs.x.com/x-api/introduction"
   ]
  }
 ],
 "metadata": {
  "kernelspec": {
   "display_name": ".venv",
   "language": "python",
   "name": "python3"
  },
  "language_info": {
   "codemirror_mode": {
    "name": "ipython",
    "version": 3
   },
   "file_extension": ".py",
   "mimetype": "text/x-python",
   "name": "python",
   "nbconvert_exporter": "python",
   "pygments_lexer": "ipython3",
   "version": "3.10.12"
  }
 },
 "nbformat": 4,
 "nbformat_minor": 2
}
