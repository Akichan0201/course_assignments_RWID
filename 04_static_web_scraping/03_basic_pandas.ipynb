{
 "cells": [
  {
   "cell_type": "code",
   "execution_count": null,
   "metadata": {},
   "outputs": [],
   "source": [
    "import pandas as pd\n",
    "import numpy as np\n",
    "\n",
    "\"\"\"\n",
    "Practice Exercise: Pandas Basics\n",
    "install pandas, numpy, openpyxl\n",
    "\n",
    "Complete each function below by following the TODO instructions. \n",
    "Each function includes the objective of the task and the expected output.\n",
    "\n",
    "Use Pandas official documentation for reference.\n",
    "https://pandas.pydata.org/docs/user_guide/index.html\n",
    "\"\"\""
   ]
  },
  {
   "cell_type": "code",
   "execution_count": null,
   "metadata": {},
   "outputs": [
    {
     "name": "stdout",
     "output_type": "stream",
     "text": [
      "       name  age      city\n",
      "0  John Doe   25  New York\n",
      "1     Nadia   31    London\n",
      "2    Serena   23     Paris\n",
      "3     Tessa   17     Tokyo\n",
      "4       Una   23    Sydney\n",
      "<class 'pandas.core.frame.DataFrame'>\n"
     ]
    }
   ],
   "source": [
    "\"\"\"\n",
    "Objective: Convert data list into a Pandas DataFrame\n",
    "\"\"\"\n",
    "name = [\"John Doe\", \"Nadia\", \"Serena\", \"Tessa\", \"Una\"]\n",
    "age = [25, 31, 23, 17, 23]\n",
    "city = [\"New York\", \"London\", \"Paris\", \"Tokyo\", \"Sydney\"]\n",
    "\n",
    "data = {\"name\": name, \"age\": age, \"city\": city}\n",
    "df = pd.DataFrame(data)\n",
    "print(df)\n",
    "print(type(df))"
   ]
  },
  {
   "cell_type": "code",
   "execution_count": 20,
   "metadata": {},
   "outputs": [
    {
     "name": "stdout",
     "output_type": "stream",
     "text": [
      "       name  age      city\n",
      "0  John Doe   25  New York\n",
      "1     Nadia   31    London\n",
      "2    Serena   23     Paris\n",
      "3     Tessa   17     Tokyo\n",
      "4       Una   23    Sydney\n",
      "<class 'pandas.core.frame.DataFrame'>\n"
     ]
    }
   ],
   "source": [
    "\"\"\"\n",
    "Objective: Convert data dictionaries into a Pandas DataFrame\n",
    "\"\"\"\n",
    "dict_1 = {\"name\": \"John Doe\", \"age\": 25, \"city\": \"New York\"}\n",
    "dict_2 = {\"name\": \"Nadia\", \"age\": 31, \"city\": \"London\"}\n",
    "dict_3 = {\"name\": \"Serena\", \"age\": 23, \"city\": \"Paris\"}\n",
    "dict_4 = {\"name\": \"Tessa\", \"age\": 17, \"city\": \"Tokyo\"}\n",
    "dict_5 = {\"name\": \"Una\", \"age\": 23, \"city\": \"Sydney\"}\n",
    "\n",
    "data = [dict_1, dict_2, dict_3, dict_4, dict_5]\n",
    "df = pd.DataFrame(data)\n",
    "print(df)\n",
    "print(type(df))"
   ]
  },
  {
   "cell_type": "code",
   "execution_count": 9,
   "metadata": {},
   "outputs": [
    {
     "data": {
      "text/html": [
       "<div>\n",
       "<style scoped>\n",
       "    .dataframe tbody tr th:only-of-type {\n",
       "        vertical-align: middle;\n",
       "    }\n",
       "\n",
       "    .dataframe tbody tr th {\n",
       "        vertical-align: top;\n",
       "    }\n",
       "\n",
       "    .dataframe thead th {\n",
       "        text-align: right;\n",
       "    }\n",
       "</style>\n",
       "<table border=\"1\" class=\"dataframe\">\n",
       "  <thead>\n",
       "    <tr style=\"text-align: right;\">\n",
       "      <th></th>\n",
       "      <th>name</th>\n",
       "      <th>age</th>\n",
       "      <th>city</th>\n",
       "      <th>is_married</th>\n",
       "    </tr>\n",
       "  </thead>\n",
       "  <tbody>\n",
       "    <tr>\n",
       "      <th>0</th>\n",
       "      <td>John Doe</td>\n",
       "      <td>25</td>\n",
       "      <td>New York</td>\n",
       "      <td>True</td>\n",
       "    </tr>\n",
       "    <tr>\n",
       "      <th>1</th>\n",
       "      <td>Nadia</td>\n",
       "      <td>31</td>\n",
       "      <td>London</td>\n",
       "      <td>False</td>\n",
       "    </tr>\n",
       "    <tr>\n",
       "      <th>2</th>\n",
       "      <td>Serena</td>\n",
       "      <td>23</td>\n",
       "      <td>Paris</td>\n",
       "      <td>False</td>\n",
       "    </tr>\n",
       "    <tr>\n",
       "      <th>3</th>\n",
       "      <td>Tessa</td>\n",
       "      <td>17</td>\n",
       "      <td>Tokyo</td>\n",
       "      <td>False</td>\n",
       "    </tr>\n",
       "    <tr>\n",
       "      <th>4</th>\n",
       "      <td>Una</td>\n",
       "      <td>23</td>\n",
       "      <td>Sydney</td>\n",
       "      <td>True</td>\n",
       "    </tr>\n",
       "  </tbody>\n",
       "</table>\n",
       "</div>"
      ],
      "text/plain": [
       "       name  age      city  is_married\n",
       "0  John Doe   25  New York        True\n",
       "1     Nadia   31    London       False\n",
       "2    Serena   23     Paris       False\n",
       "3     Tessa   17     Tokyo       False\n",
       "4       Una   23    Sydney        True"
      ]
     },
     "execution_count": 9,
     "metadata": {},
     "output_type": "execute_result"
    }
   ],
   "source": [
    "\"\"\"\n",
    "Objective: Adding new columns to a Pandas DataFrame\n",
    "\"\"\"\n",
    "is_married = [True, False, False, False, True]\n",
    "df[\"is_married\"] = is_married\n",
    "df\n"
   ]
  },
  {
   "cell_type": "code",
   "execution_count": 14,
   "metadata": {},
   "outputs": [
    {
     "data": {
      "text/html": [
       "<div>\n",
       "<style scoped>\n",
       "    .dataframe tbody tr th:only-of-type {\n",
       "        vertical-align: middle;\n",
       "    }\n",
       "\n",
       "    .dataframe tbody tr th {\n",
       "        vertical-align: top;\n",
       "    }\n",
       "\n",
       "    .dataframe thead th {\n",
       "        text-align: right;\n",
       "    }\n",
       "</style>\n",
       "<table border=\"1\" class=\"dataframe\">\n",
       "  <thead>\n",
       "    <tr style=\"text-align: right;\">\n",
       "      <th></th>\n",
       "      <th>name</th>\n",
       "      <th>age</th>\n",
       "      <th>city</th>\n",
       "      <th>is_married</th>\n",
       "    </tr>\n",
       "  </thead>\n",
       "  <tbody>\n",
       "    <tr>\n",
       "      <th>0</th>\n",
       "      <td>John Doe</td>\n",
       "      <td>25</td>\n",
       "      <td>New York</td>\n",
       "      <td>True</td>\n",
       "    </tr>\n",
       "    <tr>\n",
       "      <th>1</th>\n",
       "      <td>Nadia</td>\n",
       "      <td>31</td>\n",
       "      <td>London</td>\n",
       "      <td>False</td>\n",
       "    </tr>\n",
       "    <tr>\n",
       "      <th>2</th>\n",
       "      <td>Serena</td>\n",
       "      <td>23</td>\n",
       "      <td>Paris</td>\n",
       "      <td>False</td>\n",
       "    </tr>\n",
       "    <tr>\n",
       "      <th>3</th>\n",
       "      <td>Tessa</td>\n",
       "      <td>17</td>\n",
       "      <td>Tokyo</td>\n",
       "      <td>False</td>\n",
       "    </tr>\n",
       "    <tr>\n",
       "      <th>4</th>\n",
       "      <td>Una</td>\n",
       "      <td>23</td>\n",
       "      <td>Sydney</td>\n",
       "      <td>True</td>\n",
       "    </tr>\n",
       "    <tr>\n",
       "      <th>5</th>\n",
       "      <td>Victoria</td>\n",
       "      <td>30</td>\n",
       "      <td>New York</td>\n",
       "      <td>True</td>\n",
       "    </tr>\n",
       "    <tr>\n",
       "      <th>6</th>\n",
       "      <td>Victoria</td>\n",
       "      <td>30</td>\n",
       "      <td>New York</td>\n",
       "      <td>True</td>\n",
       "    </tr>\n",
       "  </tbody>\n",
       "</table>\n",
       "</div>"
      ],
      "text/plain": [
       "       name  age      city  is_married\n",
       "0  John Doe   25  New York        True\n",
       "1     Nadia   31    London       False\n",
       "2    Serena   23     Paris       False\n",
       "3     Tessa   17     Tokyo       False\n",
       "4       Una   23    Sydney        True\n",
       "5  Victoria   30  New York        True\n",
       "6  Victoria   30  New York        True"
      ]
     },
     "execution_count": 14,
     "metadata": {},
     "output_type": "execute_result"
    }
   ],
   "source": [
    "\"\"\"\n",
    "Objective: Adding new rows to a Pandas DataFrame\n",
    "\"\"\"\n",
    "new_row = {\"name\": \"Victoria\", \"age\": 30, \"city\": \"New York\", \"is_married\": True}\n",
    "df = pd.concat([df, pd.DataFrame([new_row])], ignore_index=True)\n",
    "\n",
    "df"
   ]
  },
  {
   "cell_type": "code",
   "execution_count": 21,
   "metadata": {},
   "outputs": [
    {
     "data": {
      "text/html": [
       "<div>\n",
       "<style scoped>\n",
       "    .dataframe tbody tr th:only-of-type {\n",
       "        vertical-align: middle;\n",
       "    }\n",
       "\n",
       "    .dataframe tbody tr th {\n",
       "        vertical-align: top;\n",
       "    }\n",
       "\n",
       "    .dataframe thead th {\n",
       "        text-align: right;\n",
       "    }\n",
       "</style>\n",
       "<table border=\"1\" class=\"dataframe\">\n",
       "  <thead>\n",
       "    <tr style=\"text-align: right;\">\n",
       "      <th></th>\n",
       "      <th>full_name</th>\n",
       "      <th>age</th>\n",
       "      <th>city</th>\n",
       "    </tr>\n",
       "  </thead>\n",
       "  <tbody>\n",
       "    <tr>\n",
       "      <th>0</th>\n",
       "      <td>John Doe</td>\n",
       "      <td>25</td>\n",
       "      <td>New York</td>\n",
       "    </tr>\n",
       "    <tr>\n",
       "      <th>1</th>\n",
       "      <td>Nadia</td>\n",
       "      <td>31</td>\n",
       "      <td>London</td>\n",
       "    </tr>\n",
       "    <tr>\n",
       "      <th>2</th>\n",
       "      <td>Serena</td>\n",
       "      <td>23</td>\n",
       "      <td>Paris</td>\n",
       "    </tr>\n",
       "    <tr>\n",
       "      <th>3</th>\n",
       "      <td>Tessa</td>\n",
       "      <td>17</td>\n",
       "      <td>Tokyo</td>\n",
       "    </tr>\n",
       "    <tr>\n",
       "      <th>4</th>\n",
       "      <td>Una</td>\n",
       "      <td>23</td>\n",
       "      <td>Sydney</td>\n",
       "    </tr>\n",
       "  </tbody>\n",
       "</table>\n",
       "</div>"
      ],
      "text/plain": [
       "  full_name  age      city\n",
       "0  John Doe   25  New York\n",
       "1     Nadia   31    London\n",
       "2    Serena   23     Paris\n",
       "3     Tessa   17     Tokyo\n",
       "4       Una   23    Sydney"
      ]
     },
     "execution_count": 21,
     "metadata": {},
     "output_type": "execute_result"
    }
   ],
   "source": [
    "\"\"\" \n",
    "Objective: Renaming columns\n",
    "\"\"\"\n",
    "df = df.rename(columns={\"name\": \"full_name\"})\n",
    "df"
   ]
  },
  {
   "cell_type": "code",
   "execution_count": 13,
   "metadata": {},
   "outputs": [
    {
     "name": "stdout",
     "output_type": "stream",
     "text": [
      "0    John Doe\n",
      "1       Nadia\n",
      "2      Serena\n",
      "3       Tessa\n",
      "4         Una\n",
      "5    Victoria\n",
      "Name: name, dtype: object\n",
      "________________________________________\n",
      "name          John Doe\n",
      "age                 25\n",
      "city          New York\n",
      "is_married        True\n",
      "Name: 0, dtype: object\n",
      "________________________________________\n",
      "name          John Doe\n",
      "age                 25\n",
      "city          New York\n",
      "is_married        True\n",
      "Name: 0, dtype: object\n",
      "________________________________________\n"
     ]
    }
   ],
   "source": [
    "\"\"\"\n",
    "Objective: Print subsets of a Pandas DataFrame\n",
    "\"\"\"\n",
    "\n",
    "print(df[\"name\"])\n",
    "print(\"________________________________________\")\n",
    "print(df.iloc[0])\n",
    "print(\"________________________________________\")\n",
    "print(df.loc[0])\n",
    "print(\"________________________________________\")"
   ]
  },
  {
   "cell_type": "code",
   "execution_count": 15,
   "metadata": {},
   "outputs": [],
   "source": [
    "\"\"\"\n",
    "Objective: Export as CSV\n",
    "\"\"\"\n",
    "df.to_csv(\"data.csv\")"
   ]
  },
  {
   "cell_type": "code",
   "execution_count": 17,
   "metadata": {},
   "outputs": [],
   "source": [
    "\"\"\"\n",
    "Objective: Export as Excel without index\n",
    "\"\"\"\n",
    "df.to_excel(\"data.xlsx\")"
   ]
  },
  {
   "cell_type": "code",
   "execution_count": 19,
   "metadata": {},
   "outputs": [],
   "source": [
    "\"\"\" \n",
    "Objective: Export with multiple sheets\n",
    "\"\"\"\n",
    "writer = pd.ExcelWriter(\"data.xlsx\")\n",
    "df.to_excel(writer, sheet_name=\"Sheet1\")\n",
    "df.to_excel(writer, sheet_name=\"Sheet2\")"
   ]
  },
  {
   "cell_type": "code",
   "execution_count": null,
   "metadata": {},
   "outputs": [],
   "source": []
  }
 ],
 "metadata": {
  "kernelspec": {
   "display_name": "course_assignments-W1NPJChe",
   "language": "python",
   "name": "python3"
  },
  "language_info": {
   "codemirror_mode": {
    "name": "ipython",
    "version": 3
   },
   "file_extension": ".py",
   "mimetype": "text/x-python",
   "name": "python",
   "nbconvert_exporter": "python",
   "pygments_lexer": "ipython3",
   "version": "3.10.12"
  }
 },
 "nbformat": 4,
 "nbformat_minor": 2
}
