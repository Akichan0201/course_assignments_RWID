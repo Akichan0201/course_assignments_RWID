{
 "cells": [
  {
   "cell_type": "code",
   "execution_count": null,
   "metadata": {},
   "outputs": [],
   "source": [
    "from selenium import webdriver\n",
    "from selenium.webdriver.common.by import By\n",
    "from selenium.webdriver.chrome.options import Options\n",
    "\n",
    "bookstoscrape_url = \"https://books.toscrape.com/\"\n",
    "\n",
    "options = Options()\n",
    "options.add_argument(\"--start-maximized\")\n",
    "\n",
    "driver = webdriver.Chrome(options=options)\n",
    "driver.get(bookstoscrape_url)"
   ]
  },
  {
   "cell_type": "markdown",
   "metadata": {},
   "source": [
    "### Finding Element"
   ]
  },
  {
   "cell_type": "code",
   "execution_count": null,
   "metadata": {},
   "outputs": [],
   "source": [
    "\"\"\" \n",
    "Objective: Find single element by tag name\n",
    "\"\"\"\n",
    "form = driver.find_element(By.TAG_NAME, \"form\")\n",
    "# TODO: Print the form and the object type"
   ]
  },
  {
   "cell_type": "code",
   "execution_count": null,
   "metadata": {},
   "outputs": [],
   "source": [
    "\"\"\" \n",
    "Objective: Explore web element attributes using .get_attribute(name_of_attribute)\n",
    "\"\"\"\n",
    "# TODO: Find element by the form tag\n",
    "# TODO: Print the attribute \"outerHTML\" from the element\n",
    "# TODO: Print the attribute \"method\" from the element\n",
    "# TODO: Print the attribute \"class\" from the element\n",
    "# TODO: Print the attribute \"id\" from the element"
   ]
  },
  {
   "cell_type": "code",
   "execution_count": null,
   "metadata": {},
   "outputs": [],
   "source": [
    "\"\"\" \n",
    "Objective: Find single element by class name\n",
    "\"\"\"\n",
    "# TODO: Find element with \"current\" class using By.CLASS_NAME\n",
    "# TODO: Print the element text using element.text"
   ]
  },
  {
   "cell_type": "code",
   "execution_count": null,
   "metadata": {},
   "outputs": [],
   "source": [
    "\"\"\" \n",
    "Objective: Find single element by id\n",
    "\"\"\"\n",
    "# TODO: Find element with \"messages\" id using By.ID\n",
    "# TODO: Print the element text using element.text"
   ]
  },
  {
   "cell_type": "code",
   "execution_count": null,
   "metadata": {},
   "outputs": [],
   "source": [
    "\"\"\" \n",
    "Objective: Find single element by xpath\n",
    "\"\"\"\n",
    "# TODO: Find any element you like, and get the xpath using inspect element tool\n",
    "# TODO: Find element with the xpath using By.XPATH\n",
    "# TODO: Print the element text using element.text\n"
   ]
  },
  {
   "cell_type": "code",
   "execution_count": null,
   "metadata": {},
   "outputs": [],
   "source": [
    "\"\"\" \n",
    "Objective: Find single element by the text\n",
    "\"\"\"\n",
    "# TODO: There should be element that have 'next' text, find using By.LINK_TEXT\n",
    "# TODO: Click the element to trigger next page using element.click()\n",
    "# TODO: Notice the current page, it should be on the next page already"
   ]
  },
  {
   "cell_type": "code",
   "execution_count": null,
   "metadata": {},
   "outputs": [],
   "source": [
    "\"\"\" \n",
    "Objective: Find single element by the partial text\n",
    "\"\"\"\n",
    "# TODO: There should be element for the previous page but we are not sure whether its 'previous' or 'Previous', find the element using By.PARTIAL_LINK_TEXT with 'vious' keyword\n",
    "# TODO: Click the element to trigger previous page using element.click()\n",
    "# TODO: Notice the current page, it should be on the previous page already"
   ]
  },
  {
   "cell_type": "code",
   "execution_count": null,
   "metadata": {},
   "outputs": [],
   "source": [
    "\"\"\" \n",
    "Objective: Find single element by xpath\n",
    "\"\"\"\n",
    "# TODO: Find any element you like, and get the xpath using inspect element tool\n",
    "# TODO: Find element with the xpath using By.XPATH\n",
    "# TODO: Print the element text using element.text\n"
   ]
  },
  {
   "cell_type": "code",
   "execution_count": null,
   "metadata": {},
   "outputs": [],
   "source": [
    "\"\"\" \n",
    "Objective: Find single element by css selector\n",
    "\"\"\"\n",
    "# TODO: There should be an element with tag div and \"alert alert-warning\" class\n",
    "# TODO: Find element with the css selector using By.CSS_SELECTOR\n",
    "# TODO: Print the element text using element.text"
   ]
  },
  {
   "cell_type": "code",
   "execution_count": null,
   "metadata": {},
   "outputs": [],
   "source": [
    "\"\"\" \n",
    "Objective: Find single element inside other element\n",
    "\"\"\"\n",
    "# TODO: There should be some elements with \"page_inner\" class, we want to get element which inside \"container-fluid page\" class element\n",
    "# TODO: Find element with \"container-fluid page\" class from the driver\n",
    "# TODO: Find element with \"page_inner\" class from the previous element\n",
    "# TODO: Print the element text using element.text"
   ]
  },
  {
   "cell_type": "code",
   "execution_count": null,
   "metadata": {},
   "outputs": [],
   "source": [
    "\"\"\" \n",
    "Objective: Find all elements\n",
    "\"\"\"\n",
    "# TODO: Find all elements with h3 tag\n",
    "# TODO: Use looping to print the text of all the elements"
   ]
  },
  {
   "cell_type": "code",
   "execution_count": null,
   "metadata": {},
   "outputs": [],
   "source": [
    "# driver.close()\n",
    "driver.quit()"
   ]
  },
  {
   "cell_type": "markdown",
   "metadata": {},
   "source": [
    "### Interacting with Web Element"
   ]
  },
  {
   "cell_type": "code",
   "execution_count": null,
   "metadata": {},
   "outputs": [],
   "source": [
    "\"\"\" \n",
    "Objective: Practice selenium setup from scratch\n",
    "\"\"\"\n",
    "# TODO: Start by importing necessary modules: webdriver, options and by\n",
    "# TODO: Create options object with --start-maximized argument\n",
    "# TODO: Create the browser instance\n",
    "# TODO: Open the https://demoqa.com/text-box using get"
   ]
  },
  {
   "cell_type": "code",
   "execution_count": null,
   "metadata": {},
   "outputs": [],
   "source": [
    "\"\"\" \n",
    "Objective: Find single element by css selector\n",
    "\"\"\"\n",
    "# TODO: Find element to input in the Full Name field\n",
    "# TODO: Input your name by using element.send_keys(\"your name\")\n",
    "# TODO: Check your browser, is the input success?\n",
    "# TODO: Re-run this cell again, analyze what is happened and write it down here"
   ]
  },
  {
   "cell_type": "code",
   "execution_count": null,
   "metadata": {},
   "outputs": [],
   "source": [
    "\"\"\" \n",
    "Objective: Clear input before input\n",
    "\"\"\"\n",
    "# TODO: Find element to input in the Full Name field\n",
    "# TODO: Get the value of the current element by using element.get_attribute(\"value\") then print it\n",
    "# TODO: Clear the input for new input using element.clear()\n",
    "# TODO: Input another name using element.send_keys(\"another name\")\n",
    "# TODO: Get the value and print it, is the value changed?"
   ]
  },
  {
   "cell_type": "code",
   "execution_count": null,
   "metadata": {},
   "outputs": [],
   "source": [
    "\"\"\" \n",
    "Objective: Click submit after form submition\n",
    "\"\"\"\n",
    "# TODO: Find all input field and fill using any data you like, use the correct example provided in the placeholder\n",
    "# TODO: Find element to submit and click it"
   ]
  }
 ],
 "metadata": {
  "kernelspec": {
   "display_name": "course_assignments-W1NPJChe",
   "language": "python",
   "name": "python3"
  },
  "language_info": {
   "codemirror_mode": {
    "name": "ipython",
    "version": 3
   },
   "file_extension": ".py",
   "mimetype": "text/x-python",
   "name": "python",
   "nbconvert_exporter": "python",
   "pygments_lexer": "ipython3",
   "version": "3.10.12"
  }
 },
 "nbformat": 4,
 "nbformat_minor": 2
}
